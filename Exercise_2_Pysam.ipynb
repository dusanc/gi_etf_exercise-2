{
 "cells": [
  {
   "cell_type": "code",
   "execution_count": 1,
   "metadata": {},
   "outputs": [
    {
     "name": "stdout",
     "output_type": "stream",
     "text": [
      "QNAME: C0HVYACXX120402:7:1207:5722:57044\n",
      "FLAG: 1187\n",
      "RNAME: 20\n",
      "POS: 9483248\n",
      "MAQ: 27\n",
      "CIGAR: 76M\n",
      "MRNM: 20\n",
      "MPOS: 9483381\n",
      "ISIZE: 209\n",
      "SEQ: TTTTCAAACAGTATCTATGCCTGCCAAATGTGAACATATAAAAAAAAACCAGAATGTGCCATTCTGATTTAAACTG\n",
      "QUAL: array('B', [28, 28, 27, 29, 31, 30, 31, 31, 29, 31, 35, 30, 29, 31, 34, 30, 29, 23, 41, 32, 20, 30, 29, 34, 34, 29, 30, 31, 30, 30, 30, 33, 33, 26, 39, 12, 25, 19, 32, 30, 35, 28, 35, 33, 23, 33, 35, 36, 30, 38, 33, 41, 34, 35, 31, 33, 23, 30, 30, 36, 27, 32, 29, 34, 35, 41, 33, 31, 33, 29, 32, 32, 31, 31, 31, 34])\n",
      "TAG: [('XA', 'GL000217.1,-110754,76M,1;'), ('BD', 'NNNNNNNNNNNNNNNNNNNNNNNNNNNNNNNNNNNNNNNNNNNNNNNNNNNNNNNNNNNNNNNNNNNNNNNNNNNN'), ('MD', '76'), ('RG', '1'), ('BI', 'NNNNNNNNNNNNNNNNNNNNNNNNNNNNNNNNNNNNNNNNNNNNNNNNNNNNNNNNNNNNNNNNNNNNNNNNNNNN'), ('NM', 0), ('MQ', 27), ('AS', 76), ('XS', 71)]\n",
      "FLAGS: 1187\n",
      "FLAGS in HEX: 0x4a3\n"
     ]
    }
   ],
   "source": [
    "import pysam\n",
    "bamfile = pysam.AlignmentFile(\"/home/d/Desktop/domaci gi/merged-tumor.bam\", \"rb\")\n",
    "\n",
    "flags = 0x0\n",
    "for read in bamfile:\n",
    "    print(\"QNAME: \" + read.query_name)\n",
    "    print(\"FLAG: \" + str(read.flag))\n",
    "    flags = read.flag\n",
    "    print(\"RNAME: \" + str(read.reference_id))\n",
    "    print(\"POS: \" + str(read.reference_start))\n",
    "    print(\"MAQ: \" + str(read.mapping_quality))\n",
    "    print(\"CIGAR: \" + str(read.cigarstring))\n",
    "    print(\"MRNM: \" + str(read.next_reference_id))\n",
    "    print(\"MPOS: \" + str(read.next_reference_start))\n",
    "    print(\"ISIZE: \" + str(read.template_length))\n",
    "    print(\"SEQ: \" + str(read.query_sequence))\n",
    "    print(\"QUAL: \" + str(read.query_qualities))\n",
    "    print(\"TAG: \" + str(read.get_tags()))\n",
    "    break\n",
    "    \n",
    "print(\"FLAGS: \" + str(flags))\n",
    "print(\"FLAGS in HEX: \" + str(hex(flags)))\n"
   ]
  },
  {
   "cell_type": "code",
   "execution_count": null,
   "metadata": {},
   "outputs": [],
   "source": [
    "    read paired (0x1) |\n",
    "    read mapped in proper pair (0x2) |\n",
    "    mate reverse strand (0x20) |\n",
    "    second in pair (0x80) |\n",
    "    read is PCR or optical duplicate (0x400) |"
   ]
  },
  {
   "cell_type": "code",
   "execution_count": 2,
   "metadata": {},
   "outputs": [],
   "source": [
    "unmapped_reads = 0\n",
    "total_number_of_reads = 0\n",
    "reads_mq_zero = 0\n",
    "sum_mq_all_reads = 0\n",
    "avg_mq_all_reads = 0\n",
    "sum_mq_wo_zero_mq = 0\n",
    "avg_mq_wo_zero_mq = 0\n",
    "\n",
    "for read in bamfile:\n",
    "    \n",
    "    if (read.is_unmapped):\n",
    "        unmapped_reads += 1\n",
    "        \n",
    "    total_number_of_reads +=1\n",
    "    \n",
    "    if (read.mapping_quality == 0):\n",
    "        reads_mq_zero += 1\n",
    "        \n",
    "    sum_mq_all_reads += read.mapping_quality\n",
    "    \n",
    "    if (read.mapping_quality != 0):\n",
    "        sum_mq_wo_zero_mq += read.mapping_quality\n",
    "        \n",
    "avg_mq_all_reads =  sum_mq_all_reads / total_number_of_reads\n",
    "avg_mq_wo_zero_mq = sum_mq_wo_zero_mq / (total_number_of_reads - reads_mq_zero)"
   ]
  },
  {
   "cell_type": "code",
   "execution_count": 3,
   "metadata": {},
   "outputs": [
    {
     "name": "stdout",
     "output_type": "stream",
     "text": [
      "How many unmapped reads are in the file?\n",
      "17765\n"
     ]
    }
   ],
   "source": [
    "print(\"How many unmapped reads are in the file?\")\n",
    "print(unmapped_reads)"
   ]
  },
  {
   "cell_type": "code",
   "execution_count": 4,
   "metadata": {},
   "outputs": [
    {
     "name": "stdout",
     "output_type": "stream",
     "text": [
      "Total number of reads\n",
      "2921628\n"
     ]
    }
   ],
   "source": [
    "print(\"Total number of reads\")\n",
    "print(total_number_of_reads)"
   ]
  },
  {
   "cell_type": "code",
   "execution_count": 5,
   "metadata": {},
   "outputs": [
    {
     "name": "stdout",
     "output_type": "stream",
     "text": [
      "Number of reads with mapping quality 0\n",
      "126628\n"
     ]
    }
   ],
   "source": [
    "print(\"Number of reads with mapping quality 0\")\n",
    "print(reads_mq_zero)"
   ]
  },
  {
   "cell_type": "code",
   "execution_count": 6,
   "metadata": {},
   "outputs": [
    {
     "name": "stdout",
     "output_type": "stream",
     "text": [
      "Average mapping quality for all the reads\n",
      "55.91380148328261\n"
     ]
    }
   ],
   "source": [
    "print(\"Average mapping quality for all the reads\")\n",
    "print(avg_mq_all_reads)"
   ]
  },
  {
   "cell_type": "code",
   "execution_count": 7,
   "metadata": {},
   "outputs": [
    {
     "name": "stdout",
     "output_type": "stream",
     "text": [
      "Average mapping quality if reads with 0 mapp quality are filtered out\n",
      "58.446986762075134\n"
     ]
    }
   ],
   "source": [
    "print(\"Average mapping quality if reads with 0 mapp quality are filtered out\")\n",
    "print(avg_mq_wo_zero_mq)"
   ]
  },
  {
   "cell_type": "code",
   "execution_count": null,
   "metadata": {},
   "outputs": [],
   "source": [
    "bamfile.close()"
   ]
  }
 ],
 "metadata": {
  "kernelspec": {
   "display_name": "Python 3",
   "language": "python",
   "name": "python3"
  },
  "language_info": {
   "codemirror_mode": {
    "name": "ipython",
    "version": 3
   },
   "file_extension": ".py",
   "mimetype": "text/x-python",
   "name": "python",
   "nbconvert_exporter": "python",
   "pygments_lexer": "ipython3",
   "version": "3.7.6"
  }
 },
 "nbformat": 4,
 "nbformat_minor": 4
}
